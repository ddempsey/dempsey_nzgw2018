{
 "cells": [
  {
   "cell_type": "markdown",
   "metadata": {},
   "source": [
    "# Eruption and Evolution of Geothermally Cooled Magma Bodies\n",
    "\n",
    "David Dempsey, Darren Gravley, Julie Rowland, in *Proceedings 40th New Zealand Geothermal Workshop*, Taupo, New Zealand (2018)\n",
    "\n",
    "This Jupyter Notebook contains an executable version of the model presented in the paper above. This model is based on the one presented in \"A model for eruption frequency of silicic magma chambers\", Degruyter, W., and C. Huber, *Earth Planet. Sci. Lett., 403*, 117-130 (2014). Modifications have been made to account for overlying geothermal systems. For more details on the physics, see Section **[Governing Equations](#Governing-Equations)**."
   ]
  },
  {
   "cell_type": "markdown",
   "metadata": {
    "heading_collapsed": true
   },
   "source": [
    "## Instructions"
   ]
  },
  {
   "cell_type": "markdown",
   "metadata": {
    "hidden": true
   },
   "source": [
    "**Install** Anaconda Python which bundles Jupyter Notebooks (honestly, if you're reading this, I assume you got that far.)\n",
    "\n",
    "**Construct a conceptual model** of the magma chamber you are interested in simulating. Pay particular attention to the limitations of your knowledge, the subsequent uncertainty in model parameters, and shortcomings of the model implemented here (detailed in Section **[Model Shortcomings](#Model-Shortcomings)**).\n",
    "\n",
    "**Copy-paste** the Python cell in the Section **[Demonstration](#Demonstration)** and make modifications to the parameters to implement your conceptual model (see Section **[Model Parameters](#Model-Parameters)** for a full list).\n",
    "\n",
    "Run your model by executing the cell (**Ctrl+Enter**) and then **use the dashboard** to investigate how the different parameters change over time. Save a figure for later using the SAVE button.\n",
    "\n",
    "You can **compare** up to three models at a time to investigate the effect of varying a particular parameter. See Section **[Comparing Models](#Comparing-Models)**.\n",
    "\n",
    "Model not doing what you want it to do? Python code is all open for you to modify, see file `magmageotherm.py`. If you make some cool changes, consider sharing them with me so I can reap the rewards of your hard work."
   ]
  },
  {
   "cell_type": "markdown",
   "metadata": {
    "heading_collapsed": true
   },
   "source": [
    "## Model Parameters"
   ]
  },
  {
   "cell_type": "markdown",
   "metadata": {
    "hidden": true
   },
   "source": [
    "The table below is an exhaustive list of the configurable model parameters, their default values, and the corresponding Python variable to change them. ***You only need to define these if you DON'T want default values*** in your model.\n",
    "\n",
    "Notation and values after *Degruyter and Huber* (2014), and *Dempsey et al.* (2018).\n",
    "\n",
    "   parameter                               |   symbol          | Python variable | default              | units \n",
    "  :--------------------------------------: | :---------------: | :-------------: | :-----------------:  | :---: \n",
    "  **Initial conditions**                   |                   |                 |                      |\n",
    "  Pressure                                 |                   | `Pi`            | $P_{lith}$           | Pa \n",
    "  Temperature                              |                   | `Ti`            | 1200                 | K \n",
    "  Volume                                   |                   | `Vi`            | 3$\\times$10$^6$      | m$^3$ \n",
    "  Gas fraction                             |                   | `egi`           | 0.04                 |\n",
    "  Melt density                             |                   | `pmi`           | 2400                 | kg m$^{-3}$\n",
    "  Crystal density                          |                   | `pXi`           | 2600                 | kg m$^{-3}$\n",
    "  **Magma body properties**                |                   |                 |                      |\n",
    "  Power law exponent melting curve         | $b$               | `b`             | 0.5                  |\n",
    "  Specific heat (melt)                     | $c_m$             | `cm`            | 1205                 | J kg$^{-1}$K$^{-1}$\n",
    "  Specific heat (crystals)                 | $c_X$             | `cX`            | 1315                 | J kg$^{-1}$K$^{-1}$\n",
    "  Specific heat (gas)                      | $c_g$             | `cg`            | 3900                 | J kg$^{-1}$K$^{-1}$\n",
    "  Latent heat of exsolution                | $L_e$             | `Le`            | 6.1$\\times$10$^5$    |\tJ kg$^{-1}$\n",
    "  Latent heat of melting                   | $L_m$             | `Lm`            | 2.9$\\times$10$^5$    |\tJ kg$^{-1}$\t\t\t \n",
    "  Lithostatic Pressure                     | $P_{lith}$        | `Plith`         | 3$\\times$10$^8$      | Pa\n",
    "  Liquidus temperature                     | $T_l$             | `Tl`            | 1223                 | K\n",
    "  Solidus temperature                      | $T_s$             | `Ts`            | 973                  | K\n",
    "  Sill burial depth (to top)               | $z_{mb}$               | `z`             | 5000                 | m\t\n",
    "  Thermal expansion (melt)                 | $\\alpha_m$        | `am`            | 1$\\times$10$^{-5}$   | K$^{-1}$\n",
    "  Thermal expansion (crystals)             | $\\alpha_X$        | `aX`            | 1$\\times$10$^{-5}$   | K$^{-1}$\n",
    "  Compressibility (melt)                   | $\\beta_m$         | `bm`            | 1$\\times$10$^{10}$   | Pa\n",
    "  Compressibility (crystals)               | $\\beta_X$         | `bX`            | 1$\\times$10$^{10}$   | Pa\n",
    "  Critical pressure (dike)                 | $\\Delta P_{cd}$   | `Pc`            | 2$\\times$10$^7$      | Pa\n",
    "  Sill thickness                           | $\\Delta z$        |  `dz`\t         | 1000                 | m\t\t\t\n",
    "  Critical locking fraction                | $\\epsilon_{Xc}$   |  `eXc`\t         | 0.5                  | \t\t\t\n",
    "  **Boundary conditions**                  |                   |                 |                      | \n",
    "  Eruption rate                            | $\\dot{M}_{erupt}$ | `Merupt`        | 1$\\times$10$^4$      | kg s$^{-1}$\n",
    "  Magma influx rate                        | $\\dot{M}_{in}$    | `Min`           | 1                    | kg s$^{-1}$ \n",
    "  Atmospheric temperature                  | $T_{atm}$         | `Tatm`          | 298 (25$^{\\circ}$C)  | K.\t\t\t\t\n",
    "  Incoming magma temperature               | $T_{in}$          | `Tin`           | 1200                 | K\n",
    "  Mass fraction of incoming volatiles      |                   | `Mwin_frac`     | 0.05                 |  \n",
    "  Post eruption underpressure              | $\\Delta P_c$      | `uPc`           | 0                    | MPa\n",
    "  **Viscous shell properties**             |                   |                 |                      |\n",
    "  Permeability of shell                    | $k$               | `ks`            | 1$\\times$10$^{-18}$  | m$^2$\n",
    "  Thermal conductivity                     | $K$               | `k`             | 2.5                  | W m$^{-1}$K$^{-1}$\n",
    "  Brittle-Ductile transition temperature   | $T_{bdt}$         | `Tbdt`          | 623 (350$^{\\circ}$C) | K\n",
    "  Thermal expansion (rock)                 | $\\alpha_r$        | `ar`            | 1$\\times$10$^{-5}$   | K$^{-1}$\n",
    "  Compressibility (rock)                   | $\\beta_r$         | `br`            | 1$\\times$10$^{10}$   | Pa\n",
    "  Viscosity of water in shell              | $\\eta_g$          | `etag`          | 5.2$\\times$10$^{-5}$ | Pa s\n",
    "  Viscosity of rock in shell               | $\\eta_r$          | `etari`         | 1$\\times$10$^{20}$   | Pa s\n",
    "  Rock density                             | $\\rho_r$          | `pr`            | 2600                 | kg m$^{-3}$\n",
    "  **Geothermal circulation properties**    |                   |                 |                      |\n",
    "  Mass flux of geothermal circulation      | $q_{fld}$         | `qfld`          | 7.6$\\times$10$^{-7}$ (1.2 m/yr rain, 2% infil.) | kg s$^{-1}$\n",
    "  Geothermal power factor                  | $\\gamma$          | `gamma`         | 10                   | \n",
    "  **Other**                                |                   |                 |                      |\n",
    "  Gravitational acceleration               | $g$               | `g`             | 9.81                 | m s$^{-2}$\n",
    "  **Simulation parameters**                |                   |                 |                      |\n",
    "  Maximum time to simulate                 |                   |  `tmax`         | 1.6$\\times$10$^{11}$ ($\\sim$5 kyr)            | s\n",
    "  Maximum number of eruptions to simulate  |                   | `Ne_max`        | 20                   | \n",
    "  Relative error tolerance for solver      |                   | `rtol`          | 1$\\times$10$^{-12}$  | "
   ]
  },
  {
   "cell_type": "markdown",
   "metadata": {
    "heading_collapsed": true
   },
   "source": [
    "## Python implementation"
   ]
  },
  {
   "cell_type": "markdown",
   "metadata": {
    "hidden": true
   },
   "source": [
    "***Run the cell below to make model objects and functions available.***"
   ]
  },
  {
   "cell_type": "code",
   "execution_count": null,
   "metadata": {
    "hidden": true
   },
   "outputs": [],
   "source": [
    "from magmageotherm import*"
   ]
  },
  {
   "cell_type": "markdown",
   "metadata": {
    "hidden": true
   },
   "source": [
    "### The Basics"
   ]
  },
  {
   "cell_type": "code",
   "execution_count": 22,
   "metadata": {
    "hidden": true,
    "scrolled": false
   },
   "outputs": [
    {
     "data": {
      "application/vnd.jupyter.widget-view+json": {
       "model_id": "fd8d42f04ecf4b1d9e9e2a2005564bbe",
       "version_major": 2,
       "version_minor": 0
      },
      "text/plain": [
       "VBox(children=(HTMLMath(value='<!DOCTYPE html><html><head><style>table, th, td {    border: 1px solid black;  …"
      ]
     },
     "metadata": {},
     "output_type": "display_data"
    }
   ],
   "source": [
    "##\n",
    "## SET MODEL PARAMETERS\n",
    "## \n",
    "Vi = 100*1.e9         # initial volume [m^3]\n",
    "Ti = 800.+273         # initial temperature [K]\n",
    "z = 4.5e3             # burial depth [m]\n",
    "dz = 1.e3             # sill thickness [m]\n",
    "Pi = z*9.81*2.7e3     # initial pressure [Pa]\n",
    "Pc = 20.e6            # critical pressure, Jellinek 2003, could be as high as 40 MPa\n",
    "                      # also uses Spieler 2004 fragmentation model\n",
    "qfld = 1.2/(365.25*24*3600)*1.e3*0.02    # geothermal mass flux \n",
    "                      # (rainfall volume rate x density x infiltration) [kg/s]\n",
    "Min = 100.            # magma influx rate [kg/s]\n",
    "ks = 1.e-19           # shell permeability [m^2]\n",
    "etar = 1.e20          # shell viscosity (elastic host rock) [Pa s]\n",
    "gamma = 10.           # strength of geothermal circulation\n",
    "Merupt = 1.e7         # mass flux rate during eruption [kg/s]\n",
    "Ne_max = 10           # maximum number of eruptions to model\n",
    "tmax = 6.e3*365.25*24*3600           # maximum simulation time [s]\n",
    "\n",
    "\n",
    "##\n",
    "## CREATE AND RUN THE MODEL\n",
    "## \n",
    "model = MagmaChamber(Min=Min, Vi=Vi, z=z, Ti=Ti, Pc=Pc, Plith=Pi, qfld=qfld, \n",
    "                     ks=ks, dz=dz, etar=etar, gamma=gamma, Ne_max=Ne_max, Merupt= Merupt, tmax=tmax)\n",
    "model.run()           \n",
    "\n",
    "\n",
    "##\n",
    "## SHOW THE MODEL OUTPUT\n",
    "##\n",
    "defaults = ['deltaP','V','eX','T','eg','egW']     # default to show, but can be changed interactively\n",
    "show_model(model, defaults)"
   ]
  },
  {
   "cell_type": "markdown",
   "metadata": {
    "heading_collapsed": true,
    "hidden": true
   },
   "source": [
    "### Comparing Models"
   ]
  },
  {
   "cell_type": "code",
   "execution_count": 6,
   "metadata": {
    "hidden": true
   },
   "outputs": [
    {
     "data": {
      "application/vnd.jupyter.widget-view+json": {
       "model_id": "d6a3f9e6ecb5424aac5c174eb0648c5b",
       "version_major": 2,
       "version_minor": 0
      },
      "text/plain": [
       "VBox(children=(HTMLMath(value='<!DOCTYPE html><html><head><style>table, th, td {    border: 1px solid black;  …"
      ]
     },
     "metadata": {},
     "output_type": "display_data"
    }
   ],
   "source": [
    "# To compare up to three models, create and run more than one model object, pass a list of them to the plot function.\n",
    "# For example, the model above, but with three different rock viscosities.\n",
    "# (Ensure that you have run the demonstration cell above so that parameter variables have been created.)\n",
    "\n",
    "etars = [1.e20,1.e19,1.e21]             # viscosity sensitivity around the demo value above\n",
    "models = []                             # empty list to store models\n",
    "\n",
    "# loop over viscosities, run model for each\n",
    "for etar in etars:\n",
    "    model = MagmaChamber(Min=Min, Vi=Vi, z=z, Ti=Ti, Pc=Pc, Plith=Pi, qfld=qfld, \n",
    "                     ks=ks, dz=dz, etar=etar, gamma=gamma, Ne_max=Ne_max, Merupt= Merupt, tmax=tmax)\n",
    "    model.run()            \n",
    "    models.append(model)\n",
    "\n",
    "# show the models\n",
    "defaults = ['deltaP','V','eX','T','eg','egW']     \n",
    "show_model(models, defaults)                    # pass list of models into dashboard function"
   ]
  },
  {
   "cell_type": "markdown",
   "metadata": {
    "heading_collapsed": true,
    "hidden": true
   },
   "source": [
    "### Saving and Loading Models\n"
   ]
  },
  {
   "cell_type": "code",
   "execution_count": 8,
   "metadata": {
    "hidden": true,
    "scrolled": true
   },
   "outputs": [
    {
     "data": {
      "application/vnd.jupyter.widget-view+json": {
       "model_id": "d604d9ce840e48b2833e15435cdb294f",
       "version_major": 2,
       "version_minor": 0
      },
      "text/plain": [
       "VBox(children=(HTMLMath(value='<!DOCTYPE html><html><head><style>table, th, td {    border: 1px solid black;  …"
      ]
     },
     "metadata": {},
     "output_type": "display_data"
    }
   ],
   "source": [
    "# You can run a model, save its output, and load it again later.\n",
    "# For example (make sure you have run the cells above)\n",
    "\n",
    "# run the model\n",
    "model = MagmaChamber(Min=Min, Vi=Vi, z=z, Ti=Ti, Pc=Pc, Plith=Pi, qfld=qfld, \n",
    "                     ks=ks, dz=dz, etar=etar, gamma=gamma, Ne_max=Ne_max, Merupt= Merupt, tmax=tmax)\n",
    "model.run()\n",
    "\n",
    "# save the model\n",
    "model.save('out.mg')\n",
    "\n",
    "# delete the model\n",
    "del(model)\n",
    "\n",
    "# load it up again\n",
    "model = MagmaChamber()\n",
    "model.load('out.mg')\n",
    "\n",
    "# display the loaded model\n",
    "show_model(model, defaults)"
   ]
  },
  {
   "cell_type": "markdown",
   "metadata": {
    "heading_collapsed": true,
    "hidden": true
   },
   "source": [
    "### Variable magma influx \n"
   ]
  },
  {
   "cell_type": "code",
   "execution_count": 17,
   "metadata": {
    "hidden": true
   },
   "outputs": [
    {
     "data": {
      "application/vnd.jupyter.widget-view+json": {
       "model_id": "fc73de22210d4fc39337114c23063e93",
       "version_major": 2,
       "version_minor": 0
      },
      "text/plain": [
       "VBox(children=(HTMLMath(value='<!DOCTYPE html><html><head><style>table, th, td {    border: 1px solid black;  …"
      ]
     },
     "metadata": {},
     "output_type": "display_data"
    }
   ],
   "source": [
    "# Suppose magma influx rate exponetially from Min = 10 kg/s to Min = 400 kg/s over 6000 yr \n",
    "# with a characteristic time of 3000 years\n",
    "t = np.linspace(0,6000.*365.25*24*3600,101)\n",
    "tchar,Mmin,Mmax = [t[-1]/2., 10., 400.]\n",
    "M = (Mmax-Mmin)*(np.exp(t/tchar) - 1)/(np.exp(t[-1]/tchar) - 1) +Mmin\n",
    "\n",
    "# pass time and recharge vectors as two element list to parameter Min\n",
    "model = MagmaChamber(Min=[t,M], Vi=Vi, z=z, Ti=Ti, Pc=Pc, Plith=Pi, qfld=qfld, \n",
    "                     ks=ks, dz=dz, etar=etar, gamma=gamma, Ne_max=Ne_max, Merupt= Merupt, tmax=tmax)\n",
    "\n",
    "# run and show model\n",
    "model.run()        \n",
    "defaults = ['deltaP','V','Min','T','eg','egW']        \n",
    "show_model(model, defaults)"
   ]
  },
  {
   "cell_type": "markdown",
   "metadata": {
    "heading_collapsed": true
   },
   "source": [
    "## Model Shortcomings"
   ]
  },
  {
   "cell_type": "markdown",
   "metadata": {
    "hidden": true
   },
   "source": [
    "This model is deficient for the following reasons (and probably others I haven't listed):\n",
    "\n",
    "1. Unlike Degruyter and Huber (2014), we do not model the evolving temperature (or viscosity) in the viscoelastic shell surrounding the magma chamber. Instead, we prescribe a single, fixed effective viscosity, that does not change as the chamber temperature changes.\n",
    "2. The magma chamber is treated as a single lumped parameter model. This means that no allowance is made for material heterogeneity, geochemical reactions, changes in pressure, temperature or state throughout its volume.\n",
    "3. This model calculates the thickness of the viscoelastic shell by balancing cooling due to heat conduction and geothermal convection. It assumes that any change in temperature that would affect the thickness of the shell does so immediately.\n",
    "4. Fluid leakage through the viscoelastic shell assumes a constant permeability value can be used to characterise the entire shell.\n",
    "5. Heat loss from the magma body is assumed to be dominated by an upward 1D flux comprising conduction (through the shell) enhanced by geothermal convection (above the shell). Lateral and downward heat loss are not modelled."
   ]
  },
  {
   "cell_type": "markdown",
   "metadata": {
    "heading_collapsed": true
   },
   "source": [
    "## Governing Equations"
   ]
  },
  {
   "cell_type": "markdown",
   "metadata": {
    "hidden": true
   },
   "source": [
    "Here, we provide a brief overview of the physics of an evolving magma chamber, as originally presented in *Degruyter and Huber* (2014), and modified to include an overlying geothermal system in *Dempsey et al.* (2018)."
   ]
  },
  {
   "cell_type": "markdown",
   "metadata": {
    "heading_collapsed": true,
    "hidden": true
   },
   "source": [
    "### Mixture and closure"
   ]
  },
  {
   "cell_type": "markdown",
   "metadata": {
    "hidden": true
   },
   "source": [
    "A magma chamber is considered a homogeneous cylinder of cross-sectional area, $A$, vertical thickness, $\\Delta z$, volume, $V=A\\Delta z$, at pressure, $P$, temperature, $T$, volume fraction of melt, $\\epsilon_m$, gas, $\\epsilon_g$, and crystals, $\\epsilon_X$. Melt, gas and crystals have densities $\\rho_m$, $\\rho_g$, and $\\rho_X$, respectively.\n",
    "\n",
    "The density of the mixture, $\\rho$, is\n",
    "\\begin{equation}\n",
    "\\rho = \\epsilon_m\\rho_m+\\epsilon_g\\rho_g +\\epsilon_X\\rho_X, \n",
    "\\end{equation}\n",
    "\n",
    "and the volume fractions must sum to 1\n",
    "\\begin{equation}\n",
    "\\epsilon_m+\\epsilon_g+\\epsilon_X=1.\n",
    "\\end{equation}"
   ]
  },
  {
   "cell_type": "markdown",
   "metadata": {
    "heading_collapsed": true,
    "hidden": true
   },
   "source": [
    "### Conservation of total mass\n"
   ]
  },
  {
   "cell_type": "markdown",
   "metadata": {
    "hidden": true
   },
   "source": [
    "Total mass, $M$, is given by the product of mixture density and volume, $M=\\rho V$. Differentiating with respect to time, we obtain\n",
    "\n",
    "\\begin{equation}\n",
    "\\frac{1}{\\rho}\\frac{d\\rho}{dt}+\\frac{1}{V}\\frac{dV}{dt}=\\frac{\\dot{M}_{in}-\\dot{M}_{out}}{\\rho V}\n",
    "\\end{equation}\n",
    "\n",
    "where $t$ is time, $\\dot{M}_{in}$ is mass influx rate and $\\dot{M}_{out}$ is mass outflux rate. Mass outflux comprises volatile leakage through the overlying viscoelastic shell, $\\dot{M}_{w,leak}$, and a sporadic eruptive term, $\\dot{M}_{erupt}$. An eruption occurs when pressure exceeds either a dike propagation, $\\Delta P_{cd}$, or fragmentation threshold, $\\Delta P_{cf}$, (chamber has failed), providing the crystal volume fraction is below a threshold, $\\epsilon_{Xc}$, (magma is mobile).\n",
    "\n",
    "Time derivative of the mixture density depends on changes in the component densities and their fractions\n",
    "\n",
    "\\begin{equation}\n",
    "\\frac{d\\rho}{dt}=\\epsilon_m\\frac{d\\rho_m}{dt}+\\epsilon_X\\frac{d\\rho_X}{dt}+\\epsilon_g\\frac{d\\rho_g}{dt}+(\\rho_g-\\rho_m)\\frac{d\\epsilon_g}{dt}+(\\rho_X-\\rho_m)\\frac{d\\epsilon_X}{dt}\\\\\n",
    "\\end{equation}\n"
   ]
  },
  {
   "cell_type": "markdown",
   "metadata": {
    "heading_collapsed": true,
    "hidden": true
   },
   "source": [
    "### Equations of state"
   ]
  },
  {
   "cell_type": "markdown",
   "metadata": {
    "hidden": true
   },
   "source": [
    "\n",
    "Melt and crystal density are functions of pressure and temperature via their bulk moduli, $\\beta_i$, and thermal expansion coefficients, $\\alpha_i$, i.e.,\n",
    "\n",
    "\\begin{eqnarray}\n",
    "\\frac{1}{\\rho_m}\\frac{d\\rho_m}{dt} &=& \\frac{1}{\\beta_m}\\frac{dP}{dt}-\\alpha_m\\frac{dT}{dt},\\\\\n",
    "\\frac{1}{\\rho_X}\\frac{d\\rho_X}{dt} &=& \\frac{1}{\\beta_X}\\frac{dP}{dt}-\\alpha_X\\frac{dT}{dt}.\\\\\n",
    "\\end{eqnarray}\n",
    "\n",
    "For the gas phase, \n",
    "\n",
    "\\begin{equation}\n",
    "\\frac{1}{\\rho_g}\\frac{d\\rho_g}{dt}=\\frac{1}{\\rho_g}\\frac{\\partial\\rho_g}{\\partial P}\\frac{dP}{dt}+\\frac{1}{\\rho_g}\\frac{\\partial \\rho_g}{\\partial T}\\frac{dT}{dt}\n",
    "\\end{equation}\n",
    "\n",
    "where gas density is calculated according to the parameterisation by Huber et al. (2010,2011) of the modified Redlich-Kwong relation (Halbach and Chatterjee, 1982) \n",
    "\n",
    "\\begin{equation}\n",
    "\\rho_g = 10^3\\left(−112.528T^{−0.381} + 127.811P^{−1.135}+112.04T^{−0.411}P^{0.033}\\right)\n",
    "\\end{equation}\n",
    "\n",
    "where $T$ is in $^{\\circ}$C and $P$ is in bar. Derivatives $\\partial\\rho_g/\\partial P$ and $\\partial\\rho_g/\\partial T$ are obtained by differentiating the expression above (and scaling the pressure derivative back into Pa). Substituting compressibility and expansion expressions back into the derivative $d\\rho/dt$\n",
    "\n",
    "\\begin{equation}\n",
    "\\frac{1}{\\rho}\\frac{d\\rho}{dt}=\\frac{1}{\\beta}\\frac{dP}{dt}-\\alpha\\frac{dT}{dt}+\\frac{\\rho_X-\\rho_m}{\\rho}\\frac{\\partial\\epsilon_X}{\\partial T}\\frac{dT}{dt}+\\left((\\rho_g-\\rho_m)+(\\rho_X-\\rho_m)\\frac{\\epsilon_X}{\\epsilon_g}\\right)\\frac{d\\epsilon_g}{dt},\n",
    "\\end{equation}\n",
    "\n",
    "where we have defined the mixture bulk modulus, $\\beta$, and thermal expansion coefficient, $\\alpha$,\n",
    "\n",
    "\\begin{eqnarray}\n",
    "\\frac{1}{\\beta}&=& \\frac{1}{\\rho}\\left(\\epsilon_m\\frac{\\rho_m}{\\beta_m}+\\epsilon_X\\frac{\\rho_X}{\\beta_X}+\\epsilon_g\\frac{\\partial \\rho_g}{\\partial P}\\right),\\\\\n",
    "\\alpha&=&\\frac{1}{\\rho}\\left(\\epsilon_m\\rho_m\\alpha_m+\\epsilon_X\\rho_X\\alpha_X-\\epsilon_g\\frac{\\partial \\rho_g}{\\partial T}\\right).\n",
    "\\end{eqnarray}"
   ]
  },
  {
   "cell_type": "markdown",
   "metadata": {
    "heading_collapsed": true,
    "hidden": true
   },
   "source": [
    "### Evolution of chamber volume"
   ]
  },
  {
   "cell_type": "markdown",
   "metadata": {
    "hidden": true
   },
   "source": [
    "Assuming the chamber remains spherical at all times, evolution of the chamber volume will depend only on volumetric strains.  Because our chamber is cylindrical and not spherical, and hence the expression below provides only a rough approximation. The Maxwell viscoelastic response to pressure changes inside the chamber superimposed alongside thermoelastic strains immediately outside the chamber is\n",
    "\n",
    "\\begin{equation}\n",
    "\\frac{1}{V}\\frac{dV}{dt} = \\underbrace{\\frac{1}{\\beta_r}\\frac{dP}{dt}}_\\text{elastic term} + \\underbrace{\\frac{\\Delta P}{\\eta_r}}_\\text{viscous term} - \\underbrace{\\alpha_r \\frac{dT}{dt}}_\\text{thermal expansion term}\n",
    "\\end{equation}\n",
    "\n",
    "where $\\Delta P=P-P_{lith}$ is the chamber overpressure relative to the lithostatic pressure, $P_{lith}$, and $\\eta_r$ is the effective viscosity. Substituting expressions for $dV/dt$ and $d\\rho/dt$ into the mass conservation equation, we obtain\n",
    "\n",
    "\\begin{equation}\n",
    "A_m \\frac{dP}{dt}+B_m\\frac{dT}{dt}+C_m\\frac{d\\epsilon_g}{dt}+D_m = 0,\n",
    "\\end{equation}\n",
    "\n",
    "where the coefficients are given\n",
    "\n",
    "\\begin{eqnarray}\n",
    "A_m &=& -\\left(\\frac{1}{\\beta}+\\frac{1}{\\beta_r}\\right)\\\\\n",
    "B_m &=& -\\left(-\\alpha -\\alpha_r +\\frac{\\rho_X-\\rho_m}{\\rho}\\frac{\\partial\\epsilon_X}{\\partial T}\\right)\\\\\n",
    "C_m &=& -\\left(\\frac{\\rho_g-\\rho_m}{\\rho}+\\frac{\\rho_X-\\rho_m}{\\rho}\\frac{\\partial \\epsilon_X}{\\partial\\epsilon_g}\\right)\\\\\n",
    "D_m &=& \\frac{\\dot{M}_{in}-\\dot{M}_{out}}{\\rho V}-\\frac{\\Delta P}{\\eta_r}\n",
    "\\end{eqnarray}"
   ]
  },
  {
   "cell_type": "markdown",
   "metadata": {
    "heading_collapsed": true,
    "hidden": true
   },
   "source": [
    "### Conservation of water"
   ]
  },
  {
   "cell_type": "markdown",
   "metadata": {
    "hidden": true
   },
   "source": [
    "The equation for conservation of water is developed in a similar manner to conservation of mass. Total water mass, $M_w$, comprises dissolved and exsolve components\n",
    "\n",
    "\\begin{equation}\n",
    "M_w = \\epsilon_g \\rho_g V + m_{eq}\\epsilon_m\\rho_m V,\n",
    "\\end{equation}\n",
    "\n",
    "where $m_{eq}(P,T)$ is the equilibrium dissolved water content in the melt, whose equation of state is given (*Dufek and Bergantz*, 2005)\n",
    "\n",
    "\\begin{equation}\n",
    "m_{eq} = 10^{-2}\\left(P^{0.5}\\left(0.4874-\\frac{608}{T}+\\frac{489530}{T^2}\\right)+P\\left(-0.0602+\\frac{135.6}{T}-\\frac{69200}{T^2}\\right)+P^{1.}\\left(0.00253-\\frac{4.154}{T}+\\frac{1509}{T^2}\\right)\\right),\n",
    "\\end{equation}\n",
    "where $P$ is in MPa and $T$ is in Kelvin.\n",
    "\n",
    "The balance equation for water is\n",
    "\\begin{equation}\n",
    "\\frac{dM_w}{dt} = \\dot{M}_{w,in} - \\dot{M}_{w,erupt} - \\dot{M}_{w,leak},\n",
    "\\end{equation}\n",
    "\n",
    "where $\\dot{M}_{w,in}$ is the incoming water dissolved in melt and $\\dot{M}_{w,erupt}$ is the erupted water, assumed to erupt in the same fraction as they are represented in the magma mixture.\n",
    "\n",
    "The governing equation for water then becomes\n",
    "\n",
    "\\begin{equation}\n",
    "A_w \\frac{dP}{dt}+B_w\\frac{dT}{dt}+C_w\\frac{d\\epsilon_g}{dt}+D_w = 0,\n",
    "\\end{equation}\n",
    "\n",
    "where the coefficients are given\n",
    "\n",
    "\\begin{eqnarray}\n",
    "A_w &=& -\\left(\\frac{1}{\\rho_g}\\frac{d\\rho_g}{dP}+\\frac{1}{\\beta_r}+\\frac{m_{eq}\\rho_m\\epsilon_m}{\\rho_g\\epsilon_g}\\left[\\frac{1}{m_{eq}}\\frac{\\partial m_{eq}}{\\partial P}+\\frac{1}{\\beta_m}+\\frac{1}{\\beta_r}\\right]\\right)\\\\\n",
    "B_w &=& -\\left(\\frac{1}{\\rho_g}\\frac{d\\rho_g}{dT}-\\alpha_r+\\frac{m_{eq}\\rho_m\\epsilon_m}{\\rho_g\\epsilon_g}\\left[\\frac{1}{m_{eq}}\\frac{\\partial m_{eq}}{\\partial T}-\\alpha_m-\\alpha_r-\\frac{1}{\\epsilon_m}\\frac{\\partial\\epsilon_X}{\\partial T}\\right]\\right)\\\\\n",
    "C_w &=& -\\left(\\frac{1}{\\epsilon_g}-\\frac{m_{eq}\\rho_m}{\\rho_g\\epsilon_g}\\left[\\frac{\\partial \\epsilon_X}{\\partial \\epsilon_g}\\right]\\right)\\\\\n",
    "D_w &=& \\frac{\\dot{M}_{w,in}-\\dot{M}_{w,erupt}-\\dot{M}_{w,leak}}{\\rho \\epsilon_g V}-\\frac{\\Delta P}{\\eta_r}\\left(1+\\frac{m_{eq}\\rho_m\\epsilon_m}{\\rho_g\\epsilon_g}\\right)\n",
    "\\end{eqnarray}"
   ]
  },
  {
   "cell_type": "markdown",
   "metadata": {
    "heading_collapsed": true,
    "hidden": true
   },
   "source": [
    "### Conservation of energy"
   ]
  },
  {
   "cell_type": "markdown",
   "metadata": {
    "hidden": true
   },
   "source": [
    "Conservation of enthalpy, $H$, is expressed\n",
    "\\begin{equation}\n",
    "\\frac{dH}{dt} = \\dot{H}_{in} - \\dot{H}_{erupt} - \\dot{H}_{cool} - \\dot{H}_{leak},\n",
    "\\end{equation}\n",
    "\n",
    "where the incoming enthalpy is $\\dot{H}_{in} = c_{in}T_{in}\\dot{M}_{in}$ and $c_{in}$ and $T_{in}$ are the specific heat and temperature of the recharging magma mixture. Enthalpy is lost via three mechanisms: eruption ($\\dot{H}_{erupt}$), conductive cooling ($\\dot{H}_{cool}$) and fluid leakage across the viscoelastic shell ($\\dot{H}_{leak}$).\n",
    "\n",
    "Enthalpy of the magma body comprises sensible heat, latent heat of crystallisation, $L_m$, and exsolution, $L_e$,\n",
    "\\begin{equation}\n",
    "H = \\rho cTV - L_m\\rho_X\\epsilon_XV - L_e m_{eq}\\rho_m \\epsilon_m V,\n",
    "\\end{equation}\n",
    "\n",
    "where $c$ is the specific heat of the mixture\n",
    "\\begin{equation}\n",
    "    c = \\frac{1}{\\rho}(\\epsilon_X\\rho_X c_X+\\epsilon_m\\rho_m c_m+\\epsilon_g\\rho_g c_g).\n",
    "\\end{equation}\n",
    "\n",
    "The balance equation then becomes\n",
    "\n",
    "\\begin{equation}\n",
    "A_h \\frac{dP}{dt}+B_h\\frac{dT}{dt}+C_h\\frac{d\\epsilon_g}{dt}+D_h = 0,\n",
    "\\end{equation}\n",
    "\n",
    "where the coefficients are given\n",
    "\n",
    "\\begin{eqnarray}\n",
    "A_h&=&-\\left(\\frac{1}{\\beta}+\\frac{1}{c}\\frac{\\partial c}{\\partial P}+\\frac{1}{\\beta_r} -\\frac{L_m \\rho_X \\epsilon_X}{\\rho cT} \\left[\\frac{1}{\\beta_X} +\\frac{1}{\\beta_r} \\right]-\\frac{L_e m_{eq} \\rho_m \\epsilon_m}{\\rho cT} \\left[\\frac{1}{m_{eq}}\\frac{\\partial m_{eq}}{\\partial P}+\\frac{1}{\\beta_m} +\\frac{1}{\\beta_r} \\right]\\right), \\\\\n",
    "B_h&=&-\\left(-\\alpha+\\frac{\\rho_X-\\rho_m}{\\rho} \\frac{\\partial \\epsilon_X}{\\partial T}+\\frac{1}{c}\\frac{\\partial c}{\\partial T}+\\frac{1}{T}-\\alpha_r-\\frac{L_m \\rho_X \\epsilon_X}{\\rho cT} \\left[-\\alpha_X+\\frac{1}{\\epsilon_X}\\frac{\\partial \\epsilon_X}{\\partial T}-\\alpha_r \\right]-\\frac{L_e m_{eq} \\rho_m \\epsilon_m}{\\rho cT} \\left[\\frac{1}{m_{eq}}\\frac{\\partial m_{eq}}{\\partial P}-\\alpha_m-\\frac{1}{\\epsilon_m}\\frac{\\partial \\epsilon_X}{\\partial T}-\\alpha_r \\right]\\right), \\\\\n",
    "C_h&=&-\\left(\\frac{\\rho_g-\\rho_m}{\\rho}+\\frac{\\rho_X-\\rho_m}{\\rho}\\frac{\\partial \\epsilon_X}{\\partial \\epsilon_g}+\\frac{1}{c} \\frac{\\partial c}{\\partial \\epsilon_g}-\\frac{L_m \\rho_X}{\\rho cT}\\frac{\\partial \\epsilon_X}{\\partial \\epsilon_g}+\\frac{L_e m_{eq} \\rho_m}{\\rho cT} \\left[1+\\frac{\\partial \\epsilon_X}{\\partial \\epsilon_g}\\right]\\right), \\\\\n",
    "D_h&=&\\frac{\\dot{H}_{in}-\\dot{H}_{erupt}-\\dot{H}_{cool}-\\dot{H}_{leak}}{\\rho cTV}-\\frac{\\Delta P}{\\eta_r}  \\left(1-\\frac{L_m \\rho_X \\epsilon_X}{\\rho cT}-\\frac{L_e m_{eq} \\rho_m \\epsilon_m}{\\rho cT}\\right), \n",
    "\\end{eqnarray}\n",
    "\n",
    "where the partial derivatives of specific heat are\n",
    "\n",
    "\\begin{eqnarray}\n",
    "\\frac{\\partial c}{\\partial P}&=&\\frac{1}{\\rho} \\left(\\frac{\\rho_X \\epsilon_X c_X}{\\beta_X} +\\epsilon_g c_g  \\frac{\\partial \\rho_g}{\\partial P}+\\frac{\\rho_m \\epsilon_m c_m}{\\beta_m} \\right)-\\frac{c}{\\rho} \\frac{\\partial \\rho}{\\partial P}, \\\\\n",
    "\\frac{\\partial c}{\\partial T}&=&\\frac{1}{\\rho} \\left(-\\alpha_X \\rho_X \\epsilon_X c_X+\\epsilon_g c_g  \\frac{\\partial \\rho_g}{\\partial T}-\\alpha_m \\rho_m \\epsilon_m c_m \\right)-\\frac{c}{\\rho}  \\frac{\\partial \\rho}{\\partial T}+\\left(\\frac{\\rho_X c_X-\\rho_m c_m}{\\rho}-\\frac{c}{\\rho} \\frac{\\partial \\rho}{\\partial \\epsilon_X}\\right)  \\frac{\\partial \\epsilon_X}{\\partial T}, \\\\ \n",
    "\\frac{\\partial c}{\\partial \\epsilon_g}&=&\\frac{\\rho_g c_g-\\rho_m c_m}{\\rho}-\\frac{c}{\\rho}\\frac{\\partial \\rho}{\\partial \\epsilon_g}+\\left(\\frac{\\rho_X c_X-\\rho_m c_m}{\\rho}-\\frac{c}{\\rho} \\frac{\\partial \\rho}{\\partial \\epsilon_X}\\right)  \\frac{\\partial \\epsilon_X}{\\partial \\epsilon_g}.\n",
    "\\end{eqnarray}"
   ]
  },
  {
   "cell_type": "markdown",
   "metadata": {
    "heading_collapsed": true,
    "hidden": true
   },
   "source": [
    "### Geothermal model"
   ]
  },
  {
   "cell_type": "markdown",
   "metadata": {
    "hidden": true
   },
   "source": [
    "The original *Degruyter and Huber* (2014) model assumed heat loss from the magma chamber across a spherical viscoelastic shell that enveloped it. Heat loss was conductive, determined by a transient 1D spherical model with non-steady magma body internal boundary condition, $T(t)$, a constant external temperature, and a constant shell thickness.\n",
    "\n",
    "In our model, we consider a static 1D linear model that accounts for both conductive and advective heat flux (from leaking fluids) through an overlying viscoelastic layer of evolving thickness. Geothermal systems are assumed to have formed in the brittle crust above this layer, and the enhanced cooling has resulted in deepening of the brittle-ductile transition depth ($T_{BDT}$ isotherm at $z_{BDT}$). The difference between $z_{BDT}$ and the top surface of the magma body, $z_{mb}$, sets the viscoelastic layer thickness. The depth of the brittle crust is determined by balancing conductive heat flux through the shell, with geothermal and conductive heat fluxes in the brittle crust:\n",
    "\n",
    "\\begin{equation}\n",
    "z_{BDT}=z_{mb} \\left(1+\\frac{(T-T_{BDT})}{(1+γ)(T_{BDT}-T_{atm}} \\right),^{-1}\n",
    "\\end{equation}\n",
    "\n",
    "where $\\gamma$ is the ratio of geothermal to conductive power transfer.\n",
    "\n",
    "Solutions for steady pressure, $P'$, and temperature, $T'$, across the shell with conductivity, $K$, and permeability, $k$, are\n",
    "\n",
    "\\begin{eqnarray}\n",
    "P' &=& P-\\beta_g' \\rho_g+\\sqrt{(\\beta_g' \\rho_g )^2+z' \\Delta P(\\Delta P-2\\beta_g' \\rho_g )},\\\\\n",
    "T' &=& T-\\Delta T \\frac{1-e^{-C(z-z_{mb})}}{1-e^{-C(z_{BDT}-z_{mb})}},\n",
    "\\end{eqnarray}\n",
    "\n",
    "where $C= -c_g k\\epsilon_g \\Delta P(2\\beta_g' \\Delta P-\\rho_g)/(K\\eta_g (z_{BDT}-z_{mb}))$, density of water in the shell is given by a linear compressibility relation $\\rho_g'=\\rho_g+\\frac{1}{\\beta_g'} (P'-P_0 )$, and $\\Delta P$ and $\\Delta T$ are pressure and temperature drops across the shell, as given by the boundary conditions (magma body $P$ and $T$ at the internal, hydrostatic pressure and $T_{BDT}$ at the external). \n",
    "\n",
    "Cooling and leakage rates are computed from $P'$ and $T'$\n",
    "\n",
    "\\begin{eqnarray}\n",
    "\\dot{H}_{cool} &=& -AK\\frac{dT'}{dz}\\bigg\\rvert_{z=z_{mb}}\\\\\n",
    "\\dot{M}_{leak} &=& -A\\frac{k\\epsilon_g \\rho_g}{\\eta_g}\\frac{dP'}{dz}\\bigg\\rvert_{z=z_{mb}},\\quad\\quad   \\dot{H}_{leak}=c_g T\\dot{M}_{leak}.\n",
    "\\end{eqnarray}"
   ]
  }
 ],
 "metadata": {
  "kernelspec": {
   "display_name": "Python 3",
   "language": "python",
   "name": "python3"
  },
  "language_info": {
   "codemirror_mode": {
    "name": "ipython",
    "version": 3
   },
   "file_extension": ".py",
   "mimetype": "text/x-python",
   "name": "python",
   "nbconvert_exporter": "python",
   "pygments_lexer": "ipython3",
   "version": "3.6.4"
  }
 },
 "nbformat": 4,
 "nbformat_minor": 2
}
